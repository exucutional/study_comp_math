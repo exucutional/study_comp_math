{
 "cells": [
  {
   "cell_type": "markdown",
   "metadata": {},
   "source": [
    "# Lab 02\n",
    "\n",
    "## Solving a system of nonlinear equations\n",
    "\n",
    "### Konks Eric, Б01-818\n",
    "\n",
    "IV.12.7.д"
   ]
  },
  {
   "cell_type": "markdown",
   "metadata": {},
   "source": [
    "$$\\begin{cases} x^7 - 5x^2y^4 + 1510 = 0 \\\\ y^3 - 3x^4y - 105 = 0 \\end{cases}$$"
   ]
  },
  {
   "cell_type": "markdown",
   "metadata": {},
   "source": [
    "$$\\begin{cases} x_{n+1} = \\sqrt{\\frac{x_n^7 + 1510}{5y_n^4}} \\\\ y_{n+1} = \\sqrt[3]{3x_{n}^4y_{n}+105} \\end{cases}$$"
   ]
  },
  {
   "cell_type": "markdown",
   "metadata": {},
   "source": [
    "$$J=\\begin{pmatrix}7x^6-10xy^4 & -20x^2y^3\\\\-12x^3y & 3y^2-3x^4\\end{pmatrix}$$"
   ]
  },
  {
   "cell_type": "code",
   "execution_count": 1,
   "metadata": {},
   "outputs": [],
   "source": [
    "import unittest\n",
    "import logging\n",
    "import numpy as np\n",
    "import pandas as pd"
   ]
  },
  {
   "cell_type": "code",
   "execution_count": 2,
   "metadata": {},
   "outputs": [],
   "source": [
    "#logging.basicConfig(level=logging.DEBUG)"
   ]
  },
  {
   "cell_type": "code",
   "execution_count": 3,
   "metadata": {},
   "outputs": [],
   "source": [
    "class FPI:\n",
    "    def __init__(self, f_vec):\n",
    "        self.__f_vec = f_vec\n",
    "        self.iter = 0\n",
    "        self.log = logging.getLogger(\"FPI\")\n",
    "    \n",
    "    def __is_stop(self, next_x, cur_x, q, delta):\n",
    "        if next_x == cur_x:\n",
    "            return False\n",
    "        \n",
    "        if sum(np.abs((next_x[i] - cur_x[i])) for i in range(len(cur_x))) <= delta * (1 - q):\n",
    "            return True\n",
    "        \n",
    "        return False\n",
    "    \n",
    "    def solve(self, init_x, q, delta):\n",
    "        cur_x = init_x\n",
    "        next_x = init_x\n",
    "        while not self.__is_stop(next_x, cur_x, q, delta):\n",
    "            cur_x = next_x\n",
    "            next_x = cur_x[:]\n",
    "            for i in range(len(self.__f_vec)):\n",
    "                next_x[i] = self.__f_vec[i](cur_x)\n",
    "              \n",
    "            self.log.debug(f\"Iter[{self.iter}]: Init: {cur_x} Next: {next_x}\")\n",
    "            self.iter = self.iter + 1\n",
    "        \n",
    "        return next_x      "
   ]
  },
  {
   "cell_type": "code",
   "execution_count": 4,
   "metadata": {},
   "outputs": [],
   "source": [
    "class Newton:\n",
    "    def __init__(self, f_vec, J):\n",
    "        self.__f_vec = f_vec\n",
    "        self.__J = J\n",
    "        self.iter = 0\n",
    "        self.log = logging.getLogger(\"Newton\")\n",
    "    \n",
    "    def __J_mul_f(self, x, i):\n",
    "        return sum(self.__f_vec[j](x) * self.__J[i][j](x) for j in range(len(self.__f_vec)))\n",
    "    \n",
    "    def __is_stop(self, next_x, cur_x, M2, m1, delta):\n",
    "        if next_x == cur_x:\n",
    "            return False\n",
    "        if sum(np.abs(next_x[i] - cur_x[i]) for i in range(len(cur_x))) < np.sqrt(2*delta*m1/M2):\n",
    "            return True\n",
    "        \n",
    "        return False\n",
    "    \n",
    "    def solve(self, init_x, M2, m1, delta):\n",
    "        self.iter = 0\n",
    "        cur_x = init_x\n",
    "        next_x = init_x\n",
    "        while not self.__is_stop(next_x, cur_x, M2, m1, delta):\n",
    "            cur_x = next_x\n",
    "            next_x = cur_x[:]\n",
    "            for i in range(len(self.__f_vec)):\n",
    "                next_x[i] = cur_x[i] - self.__J_mul_f(cur_x, i)\n",
    "            \n",
    "            self.log.debug(f\"Iter[{self.iter}]: Init: {cur_x} Next: {next_x}\")\n",
    "            self.iter = self.iter + 1\n",
    "            \n",
    "        return next_x"
   ]
  },
  {
   "cell_type": "code",
   "execution_count": 5,
   "metadata": {},
   "outputs": [],
   "source": [
    "def fpi_f1(x):\n",
    "    return np.sqrt((x[0]**7 + 1510)/(5 * (x[1]**4)))\n",
    "\n",
    "def fpi_f2(x):\n",
    "    return np.cbrt(3*(x[0]**4)*x[1] + 105)\n",
    "\n",
    "fpi = FPI([fpi_f1, fpi_f2])"
   ]
  },
  {
   "cell_type": "code",
   "execution_count": 6,
   "metadata": {},
   "outputs": [],
   "source": [
    "def newton_f1(x):\n",
    "    return x[0]**7-5*(x[0]**2)*(x[1]**4)+1510\n",
    "\n",
    "def newton_f2(x):\n",
    "    return x[1]**3-3*(x[0]**4)*x[1]-105\n",
    "\n",
    "def J00(x):\n",
    "    return 7*(x[0]**6)-10*x[0]*(x[1]**4)\n",
    "\n",
    "def J01(x):\n",
    "    return -20*(x[0]**2)*(x[1]**3)\n",
    "\n",
    "def J10(x):\n",
    "    return -12*(x[0]**3)*x[1]\n",
    "\n",
    "def J11(x):\n",
    "    return 3*(x[1]**2) - 3*(x[0]**4)\n",
    "\n",
    "def J(x):\n",
    "    return [[J00(x), J01(x)], [J10(x), J11(x)]]\n",
    "\n",
    "def J00_inv(x):\n",
    "    return J11(x)/(J00(x)*J11(x)-J10(x)*J01(x))\n",
    "\n",
    "def J01_inv(x):\n",
    "    return - J01(x)/(J00(x)*J11(x)-J10(x)*J01(x))\n",
    "\n",
    "def J10_inv(x):\n",
    "    return - J10(x)/(J00(x)*J11(x)-J10(x)*J01(x))\n",
    "\n",
    "def J11_inv(x):\n",
    "    return J00(x)/(J00(x)*J11(x)-J10(x)*J01(x))\n",
    "\n",
    "J_inv = [[J00_inv, J01_inv], [J10_inv, J11_inv]]\n",
    "newton = Newton([newton_f1, newton_f2], J_inv)"
   ]
  },
  {
   "cell_type": "code",
   "execution_count": 7,
   "metadata": {},
   "outputs": [],
   "source": [
    "log = logging.getLogger()\n",
    "x_init_vec_fpi = [[1,5], [3, -4], [-1, 5]]\n",
    "x_init_vec_newton = [[1,5], [3, -4], [-1, 5], [-4, 0], [-2, -2]]\n",
    "delta = 10**-5\n",
    "q = 0.5\n",
    "m1 = 1\n",
    "M2 = 1\n",
    "fpi_results = []\n",
    "fpi_iterations = []\n",
    "newton_results = []\n",
    "newton_iterations = []\n",
    "for x in x_init_vec_fpi:\n",
    "    fpi_results.append(fpi.solve(x, q, delta))\n",
    "    fpi_iterations.append(fpi.iter)\n",
    "    \n",
    "for x in x_init_vec_newton:\n",
    "    newton_results.append(newton.solve(x, M2, m1, delta))\n",
    "    newton_iterations.append(newton.iter)"
   ]
  },
  {
   "cell_type": "code",
   "execution_count": 8,
   "metadata": {},
   "outputs": [
    {
     "name": "stdout",
     "output_type": "stream",
     "text": [
      "Метод простых итераций\n",
      "  Начальное приближение                                Результат  Итераций\n",
      "0                [1, 5]  [0.7581689492361607, 4.787726844207749]        12\n",
      "1               [3, -4]  [0.7581677089087172, 4.787727358403952]        26\n",
      "2               [-1, 5]   [0.758168949783046, 4.787726846948769]        38\n",
      "\n",
      "Метод Ньютона\n",
      "  Начальное приближение                                   Результат  Итераций\n",
      "0                [1, 5]     [0.7581680574894804, 4.787726658175491]         4\n",
      "1               [3, -4]    [1.9548806611725527, -3.034003419954446]         5\n",
      "2               [-1, 5]   [-0.7581033504159616, 4.7877027564617185]         4\n",
      "3               [-4, 0]  [-2.8444795359336488, -0.5354157861684161]         6\n",
      "4              [-2, -2]    [-1.9624099405401385, -2.91899406039059]         5\n"
     ]
    }
   ],
   "source": [
    "fpi_dt = pd.DataFrame({\"Начальное приближение\": x_init_vec_fpi, \"Результат\": fpi_results, \"Итераций\": fpi_iterations})\n",
    "newton_dt = pd.DataFrame({\"Начальное приближение\": x_init_vec_newton, \"Результат\": newton_results, \"Итераций\": newton_iterations})\n",
    "print(\"Метод простых итераций\")\n",
    "print(fpi_dt)\n",
    "print(\"\\nМетод Ньютона\")\n",
    "print(newton_dt)"
   ]
  }
 ],
 "metadata": {
  "kernelspec": {
   "display_name": "Python 3",
   "language": "python",
   "name": "python3"
  },
  "language_info": {
   "codemirror_mode": {
    "name": "ipython",
    "version": 3
   },
   "file_extension": ".py",
   "mimetype": "text/x-python",
   "name": "python",
   "nbconvert_exporter": "python",
   "pygments_lexer": "ipython3",
   "version": "3.7.4"
  }
 },
 "nbformat": 4,
 "nbformat_minor": 4
}
