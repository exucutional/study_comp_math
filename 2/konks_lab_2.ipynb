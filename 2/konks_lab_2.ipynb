{
 "cells": [
  {
   "cell_type": "markdown",
   "metadata": {},
   "source": [
    "# Lab 02\n",
    "## Solving the system of linear equations by Gauss and Seidel method\n",
    "### Konks Eric, Б01-818\n",
    "II.10.6(б)"
   ]
  },
  {
   "cell_type": "markdown",
   "metadata": {},
   "source": [
    "$$\\begin{cases}b_1x_1+c_1x_2 = f_1\\\\a_2x_1+b_2x_2+c_2x_3=f_2\\\\a_3x_2+b_3x_3+c_3x_4=f_3\\\\...\\\\a_nx_{n-1}+b_nx_n+c_nx_{n+1}=f_n\\\\p_1x_1+p_2x_2+...+p_{n-1}x_{n-1}+p_nx_n+p_{n+1}x_{n+1}=f_{n+1}\\end{cases}$$"
   ]
  },
  {
   "cell_type": "markdown",
   "metadata": {},
   "source": [
    "$$n=9; b_1=1; c_1=0; f_1=1$$"
   ]
  },
  {
   "cell_type": "markdown",
   "metadata": {},
   "source": [
    "$$a_i=c_i=1; b_i=-2; p_i=2; f_i= 2/i^2; i=2, 3, ..., n-1$$"
   ]
  },
  {
   "cell_type": "markdown",
   "metadata": {},
   "source": [
    "$$f_{n+1} = -n/3; p_1=p_{n+1}=1$$"
   ]
  },
  {
   "cell_type": "code",
   "execution_count": 1,
   "metadata": {},
   "outputs": [],
   "source": [
    "import unittest\n",
    "import logging\n",
    "import numpy as np\n",
    "import pandas as pd"
   ]
  },
  {
   "cell_type": "code",
   "execution_count": 2,
   "metadata": {},
   "outputs": [],
   "source": [
    "#logging.basicConfig(level=logging.INFO)"
   ]
  },
  {
   "cell_type": "code",
   "execution_count": 3,
   "metadata": {},
   "outputs": [],
   "source": [
    "class Gauss:\n",
    "    \n",
    "    @staticmethod\n",
    "    def __swap_line(m, l1, l2):\n",
    "        for i in range(len(m[l1])):\n",
    "            (m[l1][i], m[l2][i]) = (m[l2][i], m[l1][i])\n",
    "    \n",
    "    @classmethod\n",
    "    def __forward(cls, m):\n",
    "        for i in range(len(m)):\n",
    "            if m[i][i] == 0:\n",
    "                j = i\n",
    "                while m[j][i] == 0:\n",
    "                    j = j + 1\n",
    "                    \n",
    "                if j < len(m):\n",
    "                    cls.__swap_line(m, i, j)\n",
    "\n",
    "            if m[i][i] != 0:\n",
    "                linec = np.copy(m[i])\n",
    "                for j in range(i, len(linec)):\n",
    "                    linec[j] = linec[j] / m[i][i]\n",
    "\n",
    "                for ii in range(i+1, len(m)):\n",
    "                    tmp = m[ii][i]\n",
    "                    for jj in range(len(m[ii])):\n",
    "                        m[ii][jj] = m[ii][jj] - linec[jj] * tmp\n",
    "\n",
    "    @staticmethod\n",
    "    def __backward(m):\n",
    "        result = [0 for i in range(len(m))] + [-1]\n",
    "        for i in reversed(range(len(m))):\n",
    "            for j in range(len(m[i])):\n",
    "                if i != j:\n",
    "                    result[i] = result[i] - result[j] * m[i][j] / m[i][i]\n",
    "                \n",
    "        return result[:-1]\n",
    "    \n",
    "    @classmethod\n",
    "    def solve(cls, m):\n",
    "        m_c = np.copy(m)\n",
    "        cls.__forward(m_c)\n",
    "        return cls.__backward(m_c)"
   ]
  },
  {
   "cell_type": "code",
   "execution_count": 4,
   "metadata": {},
   "outputs": [],
   "source": [
    "class Seidel:\n",
    "    \n",
    "    @staticmethod\n",
    "    def solve(m, init, delta):\n",
    "        log = logging.getLogger(\"seidel\")\n",
    "        isComp = False\n",
    "        res = init + [-1.]\n",
    "        iteration = 0\n",
    "        while not isComp:\n",
    "            res_next = np.copy(res)\n",
    "            for i in range(len(m)):\n",
    "                res_next[i] = 0\n",
    "                for j in range(len(m[i])):\n",
    "                    if i != j:\n",
    "                        res_next[i] = res_next[i] - res_next[j] * m[i][j] / m[i][i]\n",
    "\n",
    "            isComp = np.sqrt(sum((res_next[i] - res[i])**2 for i in range(len(res)))) < delta\n",
    "            res = res_next\n",
    "            log.debug(f\"Iter[{iteration}]: {res}\")\n",
    "            iteration = iteration + 1\n",
    "            \n",
    "        return res[:-1]"
   ]
  },
  {
   "cell_type": "code",
   "execution_count": 5,
   "metadata": {},
   "outputs": [],
   "source": [
    "class GaussAndSeidelTest(unittest.TestCase):\n",
    "    \n",
    "    def equal(self, res, exp, delta):\n",
    "        result = True\n",
    "        for i in range(len(res)):\n",
    "            if np.abs(res[i] - exp[i]) > delta:\n",
    "                result = False\n",
    "            \n",
    "        return result\n",
    "    \n",
    "    def setUp(self):\n",
    "        self.matrixes = [\n",
    "           [[2., 3., -4.],\n",
    "            [3., 8., 1.]],\n",
    "            \n",
    "           [[2., 3., -1., 9.],\n",
    "            [1., -2., 1., 3.],\n",
    "            [1., 0., 2., 2.]],\n",
    "            \n",
    "           [[7., 9., -10., -6., -1., -6., -4., 8., -5., 122.],\n",
    "            [-2., -2., 1., -6., 1., 8., -6., -3., -5., 34.],\n",
    "            [9., 6., 6., -3., 5., -9., -9., -7., 5., 9.],\n",
    "            [-1., 2., -8., -8., 9., 1., 8., 1., -9., 84.],\n",
    "            [-1., 2., 1., 8., 3., 2., -5., 8., 8., -220.],\n",
    "            [-5., -3., 0., 6., -1., 5., 1., -8., -2., 35.],\n",
    "            [-6., -6., 0., 9., 2., -3., 3., -3., 6., -50.],\n",
    "            [-2., -3., -2., -8., 5., -10., -7., 0., -2., 107.],\n",
    "            [5., 1., -2., 3., -2., 9., -2., 2., 6., -81.]],\n",
    "            \n",
    "           [[10., 1., 1., 12.],\n",
    "            [2., 10., 1., 13.],\n",
    "            [2., 2., 10., 14.]]\n",
    "        ]\n",
    "        \n",
    "        self.exp_results = [\n",
    "            [-5, 2],\n",
    "            [4, 0, -1],\n",
    "            [4, -5, -10, -4, -7, -6, -1, -9, -8],\n",
    "            [1, 1, 1]\n",
    "        ]\n",
    "        \n",
    "        self.init = [\n",
    "            [1.0, 1.0],\n",
    "            [3.0, 0.0, -0.5],\n",
    "            [1.0, -1.0, -1.0, -1.0, -1.0, -1.0, -1, -1.0, -1.0],\n",
    "            [0., 0., 0.]\n",
    "        ]\n",
    "        \n",
    "        self.isSeidel = [True, False, False, True]\n",
    "        \n",
    "        self.delta = 10**-10\n",
    "    \n",
    "    def test_cases(self): \n",
    "        for i in range(len(self.matrixes)):\n",
    "            log = logging.getLogger(f\"gauss_test_case_{i}\\n\")\n",
    "            res_gauss = Gauss.solve(self.matrixes[i])\n",
    "            isEqual_gauss = self.equal(res_gauss, self.exp_results[i], self.delta)\n",
    "            log_gauss = pd.DataFrame({\"Result\": res_gauss, \"Expected\": self.exp_results[i]})\n",
    "            log.info(log_gauss)\n",
    "            if self.isSeidel[i]:\n",
    "                log = logging.getLogger(f\"seidel_test_case_{i}\\n\")\n",
    "                res_seidel = Seidel.solve(self.matrixes[i], self.init[i], self.delta)\n",
    "                isEqual_seidel = self.equal(res_seidel, self.exp_results[i], self.delta)\n",
    "                log_seidel = pd.DataFrame({\"Result\": res_seidel, \"Expected\": self.exp_results[i]})\n",
    "                log.info(log_seidel)\n",
    "\n",
    "            self.assertTrue(isEqual_gauss)\n",
    "            self.assertTrue(isEqual_seidel)"
   ]
  },
  {
   "cell_type": "code",
   "execution_count": 6,
   "metadata": {},
   "outputs": [
    {
     "name": "stderr",
     "output_type": "stream",
     "text": [
      ".\n",
      "----------------------------------------------------------------------\n",
      "Ran 1 test in 0.015s\n",
      "\n",
      "OK\n"
     ]
    },
    {
     "data": {
      "text/plain": [
       "<unittest.main.TestProgram at 0x2627789d4c8>"
      ]
     },
     "execution_count": 6,
     "metadata": {},
     "output_type": "execute_result"
    }
   ],
   "source": [
    "unittest.main(argv=['first-arg-is-ignored'], exit=False)"
   ]
  },
  {
   "cell_type": "code",
   "execution_count": 7,
   "metadata": {},
   "outputs": [
    {
     "name": "stdout",
     "output_type": "stream",
     "text": [
      "    0    1    2    3    4    5    6    7    8    9         10\n",
      "0  1.0  0.0  0.0  0.0  0.0  0.0  0.0  0.0  0.0  0.0  1.000000\n",
      "1  1.0 -2.0  1.0  0.0  0.0  0.0  0.0  0.0  0.0  0.0  0.500000\n",
      "2  0.0  1.0 -2.0  1.0  0.0  0.0  0.0  0.0  0.0  0.0  0.222222\n",
      "3  0.0  0.0  1.0 -2.0  1.0  0.0  0.0  0.0  0.0  0.0  0.125000\n",
      "4  0.0  0.0  0.0  1.0 -2.0  1.0  0.0  0.0  0.0  0.0  0.080000\n",
      "5  0.0  0.0  0.0  0.0  1.0 -2.0  1.0  0.0  0.0  0.0  0.055556\n",
      "6  0.0  0.0  0.0  0.0  0.0  1.0 -2.0  1.0  0.0  0.0  0.040816\n",
      "7  0.0  0.0  0.0  0.0  0.0  0.0  1.0 -2.0  1.0  0.0  0.031250\n",
      "8  0.0  0.0  0.0  0.0  0.0  0.0  0.0  1.0 -2.0  1.0  0.024691\n",
      "9  1.0  2.0  2.0  2.0  2.0  2.0  2.0  2.0  2.0  1.0 -3.000000\n",
      "\n",
      "Seidel method stopping criteria: ||x_k+1 - x_k|| < 1e-10\n",
      "\n",
      "Condition number μ = 40.668524899354374\n",
      "\n",
      "   Eigenvalues λ\n",
      "0       1.796289\n",
      "1      -3.879385\n",
      "2      -3.559848\n",
      "3      -3.000000\n",
      "4      -2.480205\n",
      "5      -0.426880\n",
      "6      -0.467911\n",
      "7      -1.652704\n",
      "8      -1.329357\n",
      "9       1.000000\n",
      "      Gauss    Seidel\n",
      "0  1.000000  1.000000\n",
      "1  0.113644  0.113644\n",
      "2 -0.272712 -0.272712\n",
      "3 -0.436845 -0.436845\n",
      "4 -0.475979 -0.475979\n",
      "5 -0.435112 -0.435112\n",
      "6 -0.338690 -0.338690\n",
      "7 -0.201452 -0.201452\n",
      "8 -0.032963 -0.032963\n",
      "9  0.160216  0.160216\n",
      "   Gauss_residual  Seidel_residual\n",
      "0    0.000000e+00     0.000000e+00\n",
      "1    0.000000e+00    -3.704248e-11\n",
      "2    5.551115e-17    -4.067491e-11\n",
      "3    0.000000e+00    -2.698314e-11\n",
      "4   -6.938894e-17     9.063167e-13\n",
      "5   -2.775558e-17     3.129960e-11\n",
      "6   -2.081668e-17     4.847939e-11\n",
      "7    0.000000e+00     4.078338e-11\n",
      "8    0.000000e+00     8.156587e-12\n",
      "9   -4.440892e-16     0.000000e+00\n"
     ]
    }
   ],
   "source": [
    "log = logging.getLogger(\"task\")\n",
    "\n",
    "n = 9\n",
    "\n",
    "A = np.array([np.array([0. for _ in range(n+2)]) for _ in range(n+1)])\n",
    "\n",
    "b1 = 1\n",
    "c1 = 0\n",
    "f1 = 1\n",
    "\n",
    "A[0][0] = b1\n",
    "A[0][1] = c1\n",
    "A[0][n+1] = f1\n",
    "\n",
    "for i in range(1, n):\n",
    "    fi = 2 / (i+1)**2\n",
    "    ai = 1\n",
    "    ci = 1\n",
    "    bi = -2\n",
    "    (A[i][i-1], A[i][i], A[i][i+1]) = (ai, bi, ci)\n",
    "    A[i][n+1] = fi\n",
    "    \n",
    "A[n][0] = 1\n",
    "A[n][n] = 1\n",
    "A[n][n+1] = -n / 3.\n",
    "    \n",
    "for i in range(1, n):\n",
    "    pi = 2\n",
    "    A[n][i] = pi\n",
    "\n",
    "print(f\"{pd.DataFrame(A)}\\n\")\n",
    "\n",
    "init = [0. for _ in range(n+1)]\n",
    "delta = 1/10**10\n",
    "gauss_res = Gauss.solve(A)\n",
    "gauss_residual = [A[i][n+1] - sum(A[i][j]*gauss_res[j] for j in range(n+1)) for i in range(n+1)]\n",
    "seidel_res = Seidel.solve(A, init, delta)\n",
    "seidel_residual = [A[i][n+1] - sum(A[i][j]*seidel_res[j] for j in range(n+1)) for i in range(n+1)]\n",
    "print(f\"Seidel method stopping criteria: ||x_k+1 - x_k|| < {delta}\\n\")\n",
    "print(f\"Condition number μ = {np.linalg.cond(A[:,:-1])}\\n\")\n",
    "print(pd.DataFrame({\"Eigenvalues λ\": np.linalg.eigvals(A[:,:-1])}))\n",
    "print(pd.DataFrame({\"Gauss\": gauss_res, \"Seidel\": seidel_res}))\n",
    "print(pd.DataFrame({\"Gauss_residual\": gauss_residual, \"Seidel_residual\": seidel_residual}))"
   ]
  }
 ],
 "metadata": {
  "kernelspec": {
   "display_name": "Python 3",
   "language": "python",
   "name": "python3"
  },
  "language_info": {
   "codemirror_mode": {
    "name": "ipython",
    "version": 3
   },
   "file_extension": ".py",
   "mimetype": "text/x-python",
   "name": "python",
   "nbconvert_exporter": "python",
   "pygments_lexer": "ipython3",
   "version": "3.7.4"
  }
 },
 "nbformat": 4,
 "nbformat_minor": 4
}
