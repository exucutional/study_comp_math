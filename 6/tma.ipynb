{
 "cells": [
  {
   "cell_type": "markdown",
   "metadata": {},
   "source": [
    "# Lab 06\n",
    "\n",
    "## Solving boundary value problem with tridiagonal matrix algorithm\n",
    "\n",
    "### Konks Eric, Б01-818\n",
    "\n",
    "Task - 5"
   ]
  },
  {
   "cell_type": "markdown",
   "metadata": {},
   "source": [
    "$$\\frac{d}{dx}[k(x)\\frac{du}{dx}]-q(x)u=-f(x)$$"
   ]
  },
  {
   "cell_type": "markdown",
   "metadata": {},
   "source": [
    "$$k(0)u_x(0)=u(0)$$"
   ]
  },
  {
   "cell_type": "markdown",
   "metadata": {},
   "source": [
    "$$-k(1)u_x(1)=u(1)$$"
   ]
  },
  {
   "cell_type": "markdown",
   "metadata": {},
   "source": [
    "$$k(x)=x^2+1\\ \\ \\ q(x)=x\\ \\ \\ f(x)=e^{-x}$$"
   ]
  },
  {
   "cell_type": "code",
   "execution_count": 1,
   "metadata": {},
   "outputs": [],
   "source": [
    "import unittest\n",
    "import logging\n",
    "import numpy as np\n",
    "import pandas as pd\n",
    "import matplotlib.pyplot as plt"
   ]
  },
  {
   "cell_type": "code",
   "execution_count": 2,
   "metadata": {},
   "outputs": [],
   "source": [
    "#logging.basicConfig(level=logging.DEBUG)"
   ]
  },
  {
   "cell_type": "code",
   "execution_count": 3,
   "metadata": {},
   "outputs": [],
   "source": [
    "class TMA:\n",
    "    def __init__(self):\n",
    "        self.log = logging.getLogger(\"TMA\")\n",
    "    \n",
    "    def calc_coeff(self, k, q, f, d1, e1, d2, e2, h, x, limit):\n",
    "        a = 0\n",
    "        b = 0\n",
    "        c = 0\n",
    "        d = 0\n",
    "        if abs(x - limit[0]) < h/10:\n",
    "            a = k(x)\n",
    "            b = -k(x)-d1*h\n",
    "            c = 0\n",
    "            d = -e1*h\n",
    "        elif abs(x - limit[1]) < h/10:\n",
    "            a = 0\n",
    "            b = -k(x)-d2*h\n",
    "            c = k(x)\n",
    "            d = -e2*h\n",
    "        else:\n",
    "            a = k(x)\n",
    "            b = -2*k(x)-q(x)*(h**2)\n",
    "            c = k(x)\n",
    "            d = -f(x)*(h**2)\n",
    "            \n",
    "        return (a, b, c, d)\n",
    "        \n",
    "    \n",
    "    def solve(self, k, q, f, d1, e1, d2, e2, acc, N, limit):\n",
    "        h = (limit[1]-limit[0])/(N-1)\n",
    "        x = []\n",
    "        u = []\n",
    "        a = []\n",
    "        b = []\n",
    "        c = []\n",
    "        d = []\n",
    "        alpha = []\n",
    "        beta = []\n",
    "        for l in range(N):\n",
    "            (al,bl,cl,dl) = self.calc_coeff(k, q, f, d1, e1, d2, e2, h, limit[0]+h*l, limit)\n",
    "            a.append(al)\n",
    "            b.append(bl)\n",
    "            c.append(cl)\n",
    "            d.append(dl)\n",
    "            x.append(limit[0]+l*h)\n",
    "            if l == 0:\n",
    "                alpha.append(-al/bl)\n",
    "                beta.append(dl/bl)\n",
    "            else:\n",
    "                alpha.append(-al/(bl+cl*alpha[l-1]))\n",
    "                beta.append((dl-cl*beta[l-1])/(bl+cl*alpha[l-1]))\n",
    "            \n",
    "            self.log.debug(f\"[{x[l]}]: {al} {bl} {cl} {dl} {alpha[l]} {beta[l]}\")\n",
    "\n",
    "        u.append((d[N-1]-c[N-1]*beta[N-2])/(b[N-1]+c[N-1]*alpha[N-2]))\n",
    "        \n",
    "        for l in reversed(range(N-1)):\n",
    "            u.insert(0,alpha[l]*u[0]+beta[l])\n",
    "            \n",
    "        return (x, u)"
   ]
  },
  {
   "cell_type": "code",
   "execution_count": 4,
   "metadata": {},
   "outputs": [],
   "source": [
    "class TMATest(unittest.TestCase):\n",
    "    def equal(self, res, exp, acc):\n",
    "        result = True\n",
    "        for i in range(len(res)):\n",
    "            if np.abs(res[i] - exp[i]) > acc:\n",
    "                result = False\n",
    "            \n",
    "        return result\n",
    "    \n",
    "    def test_cases(self):\n",
    "        k = lambda x: 1.25\n",
    "        q = lambda x: 0.5\n",
    "        f = lambda x: 1/np.sqrt(np.exp(1))\n",
    "        d1 = 1\n",
    "        e1 = 0\n",
    "        d2 = 1\n",
    "        e2 = 0\n",
    "        acc = 0.0001\n",
    "        N = 10000\n",
    "        limit = (0, 1)\n",
    "        h = (limit[1]-limit[0])/(N-1)\n",
    "        tma = TMA()\n",
    "        tma_res = tma.solve(k, q, f, d1, e1, d2, e2, acc, N, limit)\n",
    "\n",
    "        lambda1 = np.sqrt(q(0)/k(0))\n",
    "        lambda2 = -np.sqrt(q(0)/k(0))\n",
    "        \n",
    "        C1_1 = (k(0)*lambda2+d2)*(d1*f(0)-e1*q(0))*np.exp(lambda2)+(k(0)*lambda2-d1)*(d2*f(0)-e2*q(0))\n",
    "        C1_2 = q(0)*((k(0)*lambda1-d1)*(k(0)*lambda2+d2)*np.exp(lambda2)-(k(0)*lambda2-d1)*(k(0)*lambda1+d2)*np.exp(lambda1))\n",
    "        C1 = C1_1/C1_2\n",
    "        C2_1 = (k(0)*lambda1+d2)*(d1*f(0)-e1*q(0))*np.exp(lambda1)+(k(0)*lambda1-d1)*(d2*f(0)-e2*q(0))\n",
    "        C2_2 = q(0)*((k(0)*lambda2-d1)*(k(0)*lambda1+d2)*np.exp(lambda1)-(k(0)*lambda2+d2)*(k(0)*lambda1-d1)*np.exp(lambda2))\n",
    "        C2=C2_1/C2_2\n",
    "        \n",
    "        dir_x = []\n",
    "        dir_u = []\n",
    "            \n",
    "        for l in range(N):\n",
    "            dir_x.append(limit[0]+l*h)\n",
    "            dir_u.append(C1*np.exp(lambda1*(limit[0]+l*h))+C2*np.exp(lambda2*(limit[0]+l*h))+f(0)/q(0))\n",
    "        \n",
    "        log = logging.getLogger(f\"TMATest\\n\")\n",
    "        isEqual = self.equal(tma_res[1], dir_u, acc)\n",
    "        if not isEqual:\n",
    "            df = pd.DataFrame({\"x\": tma_res[0], \"u\": tma_res[1]})    \n",
    "            log_res = pd.DataFrame({\"x\": tma_res[0], \"Result u\": tma_res[1], \"Expected u\": dir_u})\n",
    "            log.error(log_res)\n",
    "        \n",
    "        self.assertTrue(isEqual)"
   ]
  },
  {
   "cell_type": "code",
   "execution_count": 5,
   "metadata": {},
   "outputs": [
    {
     "name": "stderr",
     "output_type": "stream",
     "text": [
      ".\n",
      "----------------------------------------------------------------------\n",
      "Ran 1 test in 0.258s\n",
      "\n",
      "OK\n"
     ]
    },
    {
     "data": {
      "text/plain": [
       "<unittest.main.TestProgram at 0x248e7a28648>"
      ]
     },
     "execution_count": 5,
     "metadata": {},
     "output_type": "execute_result"
    }
   ],
   "source": [
    "unittest.main(argv=['first-arg-is-ignored'], exit=False)"
   ]
  },
  {
   "cell_type": "code",
   "execution_count": 6,
   "metadata": {},
   "outputs": [
    {
     "name": "stdout",
     "output_type": "stream",
     "text": [
      "         x         u\n",
      "0   0.0000  0.334426\n",
      "1   0.0909  0.360810\n",
      "2   0.1818  0.379640\n",
      "3   0.2727  0.391723\n",
      "4   0.3636  0.397917\n",
      "5   0.4545  0.399079\n",
      "6   0.5454  0.396020\n",
      "7   0.6363  0.389480\n",
      "8   0.7272  0.380112\n",
      "9   0.8181  0.368473\n",
      "10  0.9090  0.355031\n"
     ]
    }
   ],
   "source": [
    "k = lambda x: x**2+1\n",
    "q = lambda x: x\n",
    "f = lambda x: np.sqrt(np.exp(-x))\n",
    "d1 = 1\n",
    "e1 = 0\n",
    "d2 = 1\n",
    "e2 = 0\n",
    "acc = 0.0001\n",
    "N = 10001\n",
    "N_res = 11\n",
    "limit = (0, 1)\n",
    "tma = TMA()\n",
    "tma_res = tma.solve(k, q, f, d1, e1, d2, e2, acc, N, limit)\n",
    "res = (tma_res[0][0::int(N/N_res)][:N_res], tma_res[1][0::int(N/N_res)][:N_res])\n",
    "#res = tma_res\n",
    "df = pd.DataFrame({\"x\": res[0], \"u\": res[1]})\n",
    "print(df)"
   ]
  }
 ],
 "metadata": {
  "kernelspec": {
   "display_name": "Python 3",
   "language": "python",
   "name": "python3"
  },
  "language_info": {
   "codemirror_mode": {
    "name": "ipython",
    "version": 3
   },
   "file_extension": ".py",
   "mimetype": "text/x-python",
   "name": "python",
   "nbconvert_exporter": "python",
   "pygments_lexer": "ipython3",
   "version": "3.7.4"
  }
 },
 "nbformat": 4,
 "nbformat_minor": 4
}
