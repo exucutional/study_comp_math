{
 "cells": [
  {
   "cell_type": "markdown",
   "metadata": {},
   "source": [
    "# Lab 07\n",
    "\n",
    "##  Solving a boundary value problem with shooting method\n",
    "\n",
    "### Konks Eric, Б01-818\n",
    "\n",
    "XI.9.7"
   ]
  },
  {
   "cell_type": "markdown",
   "metadata": {},
   "source": [
    "$$\\epsilon y''=(y')^2,\\ \\ \\ y(0)=1,\\ \\ \\ y(1)=1,\\ \\ \\ 0<\\epsilon<<1$$"
   ]
  },
  {
   "cell_type": "markdown",
   "metadata": {},
   "source": [
    "$$y'=z$$"
   ]
  },
  {
   "cell_type": "markdown",
   "metadata": {},
   "source": [
    "$$\\epsilon z'=(z)^2,\\ \\ \\ z(0)=\\alpha,\\ \\ \\ 0<\\epsilon<<1$$"
   ]
  },
  {
   "cell_type": "code",
   "execution_count": 1,
   "metadata": {},
   "outputs": [],
   "source": [
    "import unittest\n",
    "import logging\n",
    "import numpy as np\n",
    "import pandas as pd\n",
    "import matplotlib.pyplot as plt"
   ]
  },
  {
   "cell_type": "code",
   "execution_count": 3,
   "metadata": {},
   "outputs": [],
   "source": [
    "class ODE:\n",
    "    def __init__(self):\n",
    "        self.log = logging.getLogger(\"ODE\")\n",
    "    \n",
    "    def solve(self, stages, c_vec, b_vec, a, f_vec, u_init, h, t_range):\n",
    "        u_res = [u_init,]\n",
    "        t_res = [t_range[0],]\n",
    "        while t_res[-1] < t_range[1]:\n",
    "            u_cur = [0 for _ in range(len(f_vec))]\n",
    "            k = [[0 for _ in range(stages)] for _ in range(len(f_vec))]\n",
    "            for s in range(stages):\n",
    "                u_k = [u_res[-1][j]+h*sum(a[s][m]*k[j][m] for m in range(s)) for j in range(len(f_vec))]\n",
    "                self.log.debug(f\"Iter[{t_res[-1]}]: u_k: {u_k}\")\n",
    "                for i in range(len(f_vec)):\n",
    "                    k[i][s] = f_vec[i](t_res[-1]+c_vec[s]*h, u_k)      \n",
    "\n",
    "            for i in range(len(f_vec)):\n",
    "                u_cur[i] = u_res[-1][i]+h*sum(b_vec[s]*k[i][s] for s in range(stages))\n",
    "            \n",
    "            self.log.debug(f\"Iter[{t_res[-1]}]: k: {k}\")\n",
    "            u_res.append(u_cur)\n",
    "            t_res.append(t_res[-1]+h)\n",
    "            \n",
    "        return (t_res, u_res)"
   ]
  },
  {
   "cell_type": "code",
   "execution_count": 4,
   "metadata": {},
   "outputs": [],
   "source": [
    "class SM:\n",
    "    def __init__(self):\n",
    "        self.log = logging.getLogger(\"SM\")\n",
    "        \n",
    "    def ode_solve(self):\n",
    "        c_vec = [0, 1/2, 1/2, 1]\n",
    "        b_vec = [1/6, 2/6, 2/6, 1/6]\n",
    "        a = [[0,0,0,0],\n",
    "             [1/2,0,0,0],\n",
    "             [0,1/2,0,0],\n",
    "             [0,0,1,0]]\n",
    "        u_init = [1, 1]\n",
    "        t_range = (0, 1)\n",
    "        h = 0.01\n",
    "        ode = ODE(len(c_vec))\n",
    "        \n",
    "    def solve(self, f_vec):\n",
    "        a_cur = 0\n",
    "        a_next = 0\n",
    "        while not stop(a_cur, a_next, acc):\n",
    "            self.ode_solve(f_vec)\n",
    "            a_next = a_cur - F/Fd"
   ]
  },
  {
   "cell_type": "code",
   "execution_count": null,
   "metadata": {},
   "outputs": [],
   "source": [
    "e = 0.1\n",
    "acc = 0.001\n",
    "f1 = lambda t, u_vec: u_vec[1]\n",
    "f2 = lambda t, u_vec: u_vec[1]**2/e\n",
    "\n",
    "sm = SM()\n",
    "res = sm.solve([f1, f2], acc):"
   ]
  }
 ],
 "metadata": {
  "kernelspec": {
   "display_name": "Python 3",
   "language": "python",
   "name": "python3"
  },
  "language_info": {
   "codemirror_mode": {
    "name": "ipython",
    "version": 3
   },
   "file_extension": ".py",
   "mimetype": "text/x-python",
   "name": "python",
   "nbconvert_exporter": "python",
   "pygments_lexer": "ipython3",
   "version": "3.8.2"
  }
 },
 "nbformat": 4,
 "nbformat_minor": 4
}
