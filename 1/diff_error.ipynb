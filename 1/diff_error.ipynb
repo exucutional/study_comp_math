{
 "cells": [
  {
   "cell_type": "code",
   "execution_count": null,
   "metadata": {},
   "outputs": [],
   "source": [
    "import math"
   ]
  },
  {
   "cell_type": "code",
   "execution_count": null,
   "metadata": {},
   "outputs": [],
   "source": [
    "class DiffMath:\n",
    "    \"\"\"Class contains all derivative formulas\"\"\"\n",
    "    \n",
    "    def __init__(self):\n",
    "        self.coeffs = [\n",
    "        #   -3h -2h -h 0 h 2h 3h\n",
    "            [0, 0, 0, -1, 1, 0, 0],\n",
    "            [0, 0, -1, 1, 0, 0, 0],\n",
    "            [0, 0, -1/2, 0, 1/2, 0, 0],\n",
    "            [0, 1/12, -2/3, 0, 2/3, -1/12, 0],\n",
    "            [-1/60, 3/20, -3/4, 0, 3/4, -3/20, 1/60]\n",
    "        ]\n",
    "    \n",
    "    def get_derivative(self, deriv_num):\n",
    "        def derivative(f, x, h):\n",
    "            sum = 0\n",
    "            for i in range(len(self.coeffs[deriv_num])):\n",
    "                sum += f(x + h * (i - 3))\n",
    "                \n",
    "            return sum / h\n",
    "        \n",
    "        return derivative\n",
    "    \n",
    "    def calc_derivative(self, f, x, h, deriv_num):\n",
    "        return self.get_derivative(deriv_num)(f, x, h)"
   ]
  },
  {
   "cell_type": "code",
   "execution_count": null,
   "metadata": {},
   "outputs": [],
   "source": [
    "f = lambda x: math.sin(x)\n",
    "h = 1 / 2 ** 10\n",
    "x = math.pi / 3\n",
    "dm = DiffMath()\n",
    "result = dm.calc_derivative(f, x, h, 1)"
   ]
  },
  {
   "cell_type": "code",
   "execution_count": null,
   "metadata": {},
   "outputs": [],
   "source": [
    "print(result)"
   ]
  },
  {
   "cell_type": "code",
   "execution_count": null,
   "metadata": {},
   "outputs": [],
   "source": []
  }
 ],
 "metadata": {
  "kernelspec": {
   "display_name": "env",
   "language": "python",
   "name": "env"
  },
  "language_info": {
   "codemirror_mode": {
    "name": "ipython",
    "version": 3
   },
   "file_extension": ".py",
   "mimetype": "text/x-python",
   "name": "python",
   "nbconvert_exporter": "python",
   "pygments_lexer": "ipython3",
   "version": "3.8.2"
  }
 },
 "nbformat": 4,
 "nbformat_minor": 4
}
