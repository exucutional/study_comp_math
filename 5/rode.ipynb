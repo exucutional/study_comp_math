{
 "cells": [
  {
   "cell_type": "markdown",
   "metadata": {},
   "source": [
    "# Lab 05\n",
    "\n",
    "## Solving a rigid system of differential equations\n",
    "\n",
    "### Konks Eric, Б01-818\n",
    "\n",
    "X.9.7"
   ]
  },
  {
   "cell_type": "markdown",
   "metadata": {},
   "source": [
    "$$y_1'=-0.04y_1+10^4y_2y_3$$"
   ]
  },
  {
   "cell_type": "markdown",
   "metadata": {},
   "source": [
    "$$y_2'=0.04y_1-10^4y_2y_3-3*10^7y_2^2$$"
   ]
  },
  {
   "cell_type": "markdown",
   "metadata": {},
   "source": [
    "$$y_3'=3*10^7y_2^2$$"
   ]
  },
  {
   "cell_type": "markdown",
   "metadata": {},
   "source": [
    "$$y_1(0)=1,\\ y_2(0)=0,\\ y_3(0)=0$$"
   ]
  },
  {
   "cell_type": "code",
   "execution_count": 1,
   "metadata": {},
   "outputs": [],
   "source": [
    "import unittest\n",
    "import logging\n",
    "import numpy as np\n",
    "import pandas as pd\n",
    "import matplotlib.pyplot as plt"
   ]
  },
  {
   "cell_type": "code",
   "execution_count": 2,
   "metadata": {},
   "outputs": [],
   "source": [
    "#logging.basicConfig(level=logging.DEBUG)"
   ]
  },
  {
   "cell_type": "code",
   "execution_count": 3,
   "metadata": {},
   "outputs": [],
   "source": [
    "class RODE:\n",
    "    def __init__(self):\n",
    "        self.log = logging.getLogger(\"RODE\")\n",
    "    \n",
    "    def k_calc_stop(self, k_cur, k_next, delta):\n",
    "        if id(k_cur) == id(k_next):\n",
    "            return False\n",
    "        \n",
    "        if np.abs(np.linalg.norm(np.matrix(k_cur)) - np.linalg.norm(np.matrix(k_next))) < delta:\n",
    "            return True\n",
    "        \n",
    "        return False\n",
    "    \n",
    "    def k_calc(self, stages, c_vec, b_vec, a, f_vec, u_res, h, t_res, delta):\n",
    "        k_next = [[0 for _ in range(stages)] for _ in range(len(f_vec))]\n",
    "        k_cur = k_next\n",
    "        \n",
    "        itr = 0\n",
    "        while not self.k_calc_stop(k_cur, k_next, delta):\n",
    "            k_tmp = k_next\n",
    "            k_next = [k_cur[i][:] for i in range(len(k_cur))]\n",
    "            k_cur = k_tmp\n",
    "            for s in range(stages):\n",
    "                u_k = [u_res[-1][j]+h*sum(a[s][m]*k_cur[j][m] for m in range(s)) for j in range(len(f_vec))]\n",
    "                self.log.debug(f\"Iter[{itr}]|S[{s}]: u_k: {u_k}\")\n",
    "                for i in range(len(f_vec)):\n",
    "                    k_next[i][s] = f_vec[i](t_res[-1]+c_vec[s]*h, u_k)\n",
    "\n",
    "            self.log.debug(f\"Iter[{itr}]]: k: {k_next}\")\n",
    "            \n",
    "            itr = itr + 1\n",
    "\n",
    "        return k_next\n",
    "    \n",
    "    def solve(self, stages, c_vec, b_vec, a, f_vec, u_init, h, t_range, delta):\n",
    "        u_res = [u_init,]\n",
    "        t_res = [t_range[0],]\n",
    "        while t_res[-1] < t_range[1]:\n",
    "            u_cur = [0 for _ in range(len(f_vec))]\n",
    "            k = self.k_calc(stages, c_vec, b_vec, a, f_vec, u_res, h, t_res, delta)\n",
    "            for i in range(len(f_vec)):\n",
    "                u_cur[i] = u_res[-1][i]+h*sum(b_vec[s]*k[i][s] for s in range(stages))\n",
    "            \n",
    "            self.log.debug(f\"T[{t_res[-1]}]: k: {k}\")\n",
    "            self.log.debug(f\"T[{t_res[-1]}]: u: {u_cur}\")\n",
    "            u_res.append(u_cur)\n",
    "            t_res.append(t_res[-1]+h)\n",
    "            \n",
    "        return (t_res, u_res)"
   ]
  },
  {
   "cell_type": "code",
   "execution_count": 4,
   "metadata": {},
   "outputs": [
    {
     "name": "stdout",
     "output_type": "stream",
     "text": [
      "            t                                       (y1, y2, y3)\n",
      "0       0.000                                          [1, 0, 0]\n",
      "1       0.001  [0.9999600007070238, 3.160911290458521e-05, 8....\n",
      "2       0.002  [0.9999200096569564, 3.635339873378606e-05, 4....\n",
      "3       0.003  [0.9998800342501171, 3.649800066650599e-05, 8....\n",
      "4       0.004  [0.999840075037782, 3.649288365169819e-05, 0.0...\n",
      "...       ...                                                ...\n",
      "39997  39.997  [0.7158335537211122, 9.185178117035123e-06, 0....\n",
      "39998  39.998  [0.7158310227510469, 9.184753283527227e-06, 0....\n",
      "39999  39.999  [0.715828491981854, 9.184153341901414e-06, 0.2...\n",
      "40000  40.000  [0.715825961492197, 9.183284351392223e-06, 0.2...\n",
      "40001  40.001  [0.7158234314029306, 9.182001972429047e-06, 0....\n",
      "\n",
      "[40002 rows x 2 columns]\n"
     ]
    }
   ],
   "source": [
    "log = logging.getLogger()\n",
    "c_vec = [1/2-np.sqrt(15)/10, 1/2, 1/2+np.sqrt(15)/10]\n",
    "b_vec = [5/18, 4/9, 5/18]\n",
    "a = [[5/36,2/9-np.sqrt(15)/15,5/36-np.sqrt(15)/30],\n",
    "     [5/36+np.sqrt(15)/24,2/9,5/36-np.sqrt(15)/24],\n",
    "     [5/36+np.sqrt(15)/30,2/9+np.sqrt(15)/15,5/36]]\n",
    "#c_vec = [1/3, 1]\n",
    "#b_vec = [3/4, 1/4]\n",
    "#a = [[5/12, -1/12], [3/4, 1/4]]\n",
    "log.debug(f\"c={c_vec}\")\n",
    "log.debug(f\"b={b_vec}\")\n",
    "log.debug(f\"a={a}\")\n",
    "u_init = [1, 0, 0]\n",
    "t_range = (0, 40)\n",
    "delta = 10e-6\n",
    "h = 0.001\n",
    "f1 = lambda t, u_vec: -0.04*u_vec[0]+10**4*u_vec[1]*u_vec[2]\n",
    "f2 = lambda t, u_vec: 0.04*u_vec[0]-10**4*u_vec[1]*u_vec[2]-3*10**7*u_vec[1]**2\n",
    "f3 = lambda t, u_vec: 3*10**7*u_vec[1]**2\n",
    "f_vec = [f1, f2, f3]\n",
    "rode = RODE()\n",
    "res = rode.solve(len(c_vec), c_vec, b_vec, a, f_vec, u_init, h, t_range, delta)\n",
    "df = pd.DataFrame({\"t\": res[0], \"(y1, y2, y3)\": res[1]})\n",
    "print(df)"
   ]
  },
  {
   "cell_type": "code",
   "execution_count": 5,
   "metadata": {},
   "outputs": [
    {
     "data": {
      "image/png": "[encoded data removed]",
      "text/plain": [
       "<Figure size 432x288 with 1 Axes>"
      ]
     },
     "metadata": {
      "needs_background": "light"
     },
     "output_type": "display_data"
    },
    {
     "data": {
      "image/png": "[encoded data removed]",
      "text/plain": [
       "<Figure size 432x288 with 1 Axes>"
      ]
     },
     "metadata": {
      "needs_background": "light"
     },
     "output_type": "display_data"
    },
    {
     "data": {
      "image/png": "[encoded data removed]",
      "text/plain": [
       "<Figure size 432x288 with 1 Axes>"
      ]
     },
     "metadata": {
      "needs_background": "light"
     },
     "output_type": "display_data"
    }
   ],
   "source": [
    "def mplot(x, y, xlabel, ylabel):\n",
    "    plt.plot(x, y, label=f\"{ylabel}({xlabel})\")\n",
    "    plt.grid(True)\n",
    "    plt.xlabel(xlabel)\n",
    "    plt.ylabel(ylabel)\n",
    "    plt.legend()\n",
    "    plt.show()\n",
    "\n",
    "mplot(res[0], [j[0] for j in res[1]], 't', 'y1')\n",
    "mplot(res[0], [j[1] for j in res[1]], 't', 'y2')\n",
    "mplot(res[0], [j[2] for j in res[1]], 't', 'y3')"
   ]
  },
  {
   "cell_type": "code",
   "execution_count": null,
   "metadata": {},
   "outputs": [],
   "source": []
  }
 ],
 "metadata": {
  "kernelspec": {
   "display_name": "Python 3",
   "language": "python",
   "name": "python3"
  },
  "language_info": {
   "codemirror_mode": {
    "name": "ipython",
    "version": 3
   },
   "file_extension": ".py",
   "mimetype": "text/x-python",
   "name": "python",
   "nbconvert_exporter": "python",
   "pygments_lexer": "ipython3",
   "version": "3.7.4"
  }
 },
 "nbformat": 4,
 "nbformat_minor": 4
}
